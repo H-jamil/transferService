{
 "cells": [
  {
   "cell_type": "code",
   "execution_count": 1,
   "id": "29cdc824",
   "metadata": {},
   "outputs": [],
   "source": [
    "import gym\n",
    "import sys\n",
    "from gym import spaces\n",
    "import numpy as np\n",
    "import copy\n",
    "import random\n",
    "from datetime import datetime\n",
    "import logging as log\n",
    "import time\n",
    "from transferService import transferService\n",
    "from optimizer_gd import *\n",
    "from transferClass import *"
   ]
  },
  {
   "cell_type": "code",
   "execution_count": null,
   "id": "19ba8430",
   "metadata": {},
   "outputs": [],
   "source": [
    "optimizer='gd'\n",
    "log_FORMAT = '%(created)f -- %(levelname)s: %(message)s'\n",
    "extraString=\"logFile\"\n",
    "log_file = f\"logFileDir/{optimizer}_{extraString}_{datetime.now().strftime('%m_%d_%Y_%H_%M_%S')}.log\"\n",
    "log.basicConfig(\n",
    "    format=log_FORMAT,\n",
    "    datefmt='%m/%d/%Y %I:%M:%S %p',\n",
    "    level=log.INFO,\n",
    "    handlers=[\n",
    "        log.FileHandler(log_file),\n",
    "        log.StreamHandler()\n",
    "    ]\n",
    ")\n",
    "\n",
    "REMOTE_IP = \"129.114.109.231\"\n",
    "REMOTE_PORT = \"80\"\n",
    "INTERVAL = 1\n",
    "INTERFACE = \"eno1\"\n",
    "SERVER_IP = '127.0.0.1'\n",
    "SERVER_PORT = 8080\n",
    "transfer_service = transferService(REMOTE_IP, REMOTE_PORT, INTERVAL, INTERFACE, SERVER_IP, SERVER_PORT, optimizer, log)\n",
    "env = transferClass(transfer_service)\n",
    "initial_state = env.reset()\n",
    "\n",
    "if optimizer == 'GD':\n",
    "    optimal_actions = gradient_descent_optimizer(env)\n",
    "    print(\"Optimal Actions: \", optimal_actions)\n",
    "elif optimizer == 'BO':\n",
    "    best_params = bayes_optimizer(env)\n",
    "    print(f\"Optimal parameters: {best_params}\")\n",
    "elif optimizer == 'RL':\n",
    "    # Assuming you have a function for RL optimizer\n",
    "    rl_results = rl_optimizer(env)  # Replace with actual RL optimizer function\n",
    "    print(\"RL Results: \", rl_results)\n",
    "else:  # Default to 'max'\n",
    "    taken_actions = maximize(env)\n",
    "    print(\"Taken Actions: \", taken_actions)\n",
    "\n",
    "env.close()"
   ]
  },
  {
   "cell_type": "code",
   "execution_count": 2,
   "id": "60f4054d",
   "metadata": {},
   "outputs": [
    {
     "name": "stderr",
     "output_type": "stream",
     "text": [
      "Process Process-2:\n",
      "  File \"/usr/lib/python3.10/multiprocessing/process.py\", line 314, in _bootstrap\n",
      "    self.run()\n",
      "Traceback (most recent call last):\n",
      "  File \"/usr/lib/python3.10/multiprocessing/process.py\", line 108, in run\n",
      "    self._target(*self._args, **self._kwargs)\n",
      "  File \"/home/cc/transferService/final_code_transferService/transferService.py\", line 87, in calculate_download_speed\n",
      "    sock.bind(server_address)\n",
      "OSError: [Errno 98] Address already in use\n",
      "1703306397.868118 -- INFO: Throughput @1703306397.8676732s:   0.0Gbps, lossRate: 0 CC:1  score:-0.0  rtt:0.0 ms energy:0.0 Jules s-plr:0.0 \n"
     ]
    },
    {
     "name": "stdout",
     "output_type": "stream",
     "text": [
      "Error connecting to server:Failed to connect: [Errno 111] Connection refusedgradient_descent_optimizer Starting ...\n",
      "\n",
      " [Errno 111] Connection refused\n"
     ]
    },
    {
     "name": "stderr",
     "output_type": "stream",
     "text": [
      "1703306398.865390 -- INFO: Throughput @1703306398.8653247s:   0.0Gbps, lossRate: 0.0 CC:1  score:-0.0  rtt:0.0 ms energy:0.0 Jules s-plr:0.0 \n"
     ]
    },
    {
     "name": "stdout",
     "output_type": "stream",
     "text": [
      "Failed to connect: [Errno 111] Connection refused\n"
     ]
    },
    {
     "name": "stderr",
     "output_type": "stream",
     "text": [
      "1703306399.865988 -- INFO: Throughput @1703306399.8659105s:   0.0Gbps, lossRate: 0 CC:1  score:-0.0  rtt:32.7 ms energy:0.0 Jules s-plr:0.0 \n"
     ]
    },
    {
     "name": "stdout",
     "output_type": "stream",
     "text": [
      "\n",
      "Failed to connect: [Errno 111] Connection refused"
     ]
    },
    {
     "name": "stderr",
     "output_type": "stream",
     "text": [
      "1703306400.866364 -- INFO: Throughput @1703306400.8662965s:   0.0Gbps, lossRate: 0 CC:1  score:-0.0  rtt:32.8 ms energy:0.0 Jules s-plr:0.0 \n"
     ]
    },
    {
     "name": "stdout",
     "output_type": "stream",
     "text": [
      "\n",
      "Failed to connect: [Errno 111] Connection refused"
     ]
    },
    {
     "name": "stderr",
     "output_type": "stream",
     "text": [
      "1703306401.867652 -- INFO: Throughput @1703306401.8675866s:   0.0Gbps, lossRate: 0 CC:1  score:-0.0  rtt:32.8 ms energy:0.0 Jules s-plr:0.0 \n"
     ]
    },
    {
     "name": "stdout",
     "output_type": "stream",
     "text": [
      "\n",
      "Failed to connect: [Errno 111] Connection refused"
     ]
    },
    {
     "name": "stderr",
     "output_type": "stream",
     "text": [
      "1703306402.868470 -- INFO: Throughput @1703306402.8684113s:   0.0Gbps, lossRate: 0 CC:1  score:-0.0  rtt:32.7 ms energy:0.0 Jules s-plr:0.0 \n"
     ]
    },
    {
     "name": "stdout",
     "output_type": "stream",
     "text": [
      "\n",
      "Sending values: 1 1"
     ]
    },
    {
     "name": "stderr",
     "output_type": "stream",
     "text": [
      "1703306403.870315 -- INFO: Throughput @1703306403.8702383s:   0.0Gbps, lossRate: 0.0 CC:1  score:-0.0  rtt:32.8 ms energy:0.0 Jules s-plr:0.0 \n"
     ]
    },
    {
     "name": "stdout",
     "output_type": "stream",
     "text": [
      "From tranferService.step() Total Score:  0.0\n",
      "Env step observations  [ 0.   1.   1.   0.  -0.   0.   0.   0.   0.   1.   1.   0.  -0.  32.7\n",
      "  0.   0.   0.   1.   1.   0.  -0.  32.8  0.   0.   0.   1.   1.   0.\n",
      " -0.  32.8  0.   0.   0.   1.   1.   0.  -0.  32.7  0.   0. ]\n"
     ]
    },
    {
     "ename": "NameError",
     "evalue": "name 'i' is not defined",
     "output_type": "error",
     "traceback": [
      "\u001b[0;31m---------------------------------------------------------------------------\u001b[0m",
      "\u001b[0;31mNameError\u001b[0m                                 Traceback (most recent call last)",
      "Cell \u001b[0;32mIn [2], line 61\u001b[0m\n\u001b[1;32m     58\u001b[0m last_action \u001b[38;5;241m=\u001b[39m current_action\n\u001b[1;32m     59\u001b[0m current_action \u001b[38;5;241m=\u001b[39m next_action\n\u001b[0;32m---> 61\u001b[0m \u001b[38;5;28mprint\u001b[39m(\u001b[38;5;124mf\u001b[39m\u001b[38;5;124m\"\u001b[39m\u001b[38;5;124mIteration \u001b[39m\u001b[38;5;132;01m{\u001b[39;00mi\u001b[38;5;132;01m}\u001b[39;00m\u001b[38;5;124m: Current Action: \u001b[39m\u001b[38;5;132;01m{\u001b[39;00mcurrent_action\u001b[38;5;132;01m}\u001b[39;00m\u001b[38;5;124m, Reward: \u001b[39m\u001b[38;5;132;01m{\u001b[39;00mreward\u001b[38;5;132;01m}\u001b[39;00m\u001b[38;5;124m\"\u001b[39m)\n",
      "\u001b[0;31mNameError\u001b[0m: name 'i' is not defined"
     ]
    },
    {
     "name": "stderr",
     "output_type": "stream",
     "text": [
      "1703306404.870372 -- INFO: Throughput @1703306404.8702955s:   0.0Gbps, lossRate: 0 CC:1  score:-0.0  rtt:32.9 ms energy:0.0 Jules s-plr:0.0 \n",
      "1703306405.872698 -- INFO: Throughput @1703306405.8726077s:   0.0Gbps, lossRate: 0 CC:1  score:-0.0  rtt:33.3 ms energy:0.0 Jules s-plr:0.0 \n",
      "1703306406.873927 -- INFO: Throughput @1703306406.8738463s:   0.0Gbps, lossRate: 0 CC:1  score:-0.0  rtt:32.7 ms energy:0.0 Jules s-plr:0.0 \n",
      "1703306407.872942 -- INFO: Throughput @1703306407.8728502s:   0.0Gbps, lossRate: 0 CC:1  score:-0.0  rtt:32.6 ms energy:0.0 Jules s-plr:0.0 \n",
      "1703306408.875409 -- INFO: Throughput @1703306408.8753176s:   0.0Gbps, lossRate: 0 CC:1  score:-0.0  rtt:32.8 ms energy:0.0 Jules s-plr:0.0 \n"
     ]
    },
    {
     "name": "stdout",
     "output_type": "stream",
     "text": [
      "Received response: Throughput: 0.32, Energy Used: 0\n",
      "Sending values: 1 1\n"
     ]
    },
    {
     "name": "stderr",
     "output_type": "stream",
     "text": [
      "1703306409.876606 -- INFO: Throughput @1703306409.87652s:   0.0Gbps, lossRate: 0 CC:1  score:-0.0  rtt:32.6 ms energy:0.0 Jules s-plr:0.0 \n",
      "1703306410.878040 -- INFO: Throughput @1703306410.8779514s:   0.0Gbps, lossRate: 0 CC:1  score:-0.0  rtt:32.7 ms energy:0.0 Jules s-plr:0.0 \n",
      "1703306411.879382 -- INFO: Throughput @1703306411.879296s:   0.0Gbps, lossRate: 0 CC:1  score:-0.0  rtt:32.7 ms energy:0.0 Jules s-plr:0.0 \n",
      "1703306412.880512 -- INFO: Throughput @1703306412.8804274s:   0.0Gbps, lossRate: 0 CC:1  score:-0.0  rtt:32.7 ms energy:0.0 Jules s-plr:0.0 \n",
      "1703306413.881096 -- INFO: Throughput @1703306413.8810086s:   0.0Gbps, lossRate: 0 CC:1  score:-0.0  rtt:32.7 ms energy:0.0 Jules s-plr:0.0 \n",
      "1703306414.879623 -- INFO: Throughput @1703306414.8795478s:   0.0Gbps, lossRate: 0 CC:1  score:-0.0  rtt:32.7 ms energy:0.0 Jules s-plr:0.0 \n"
     ]
    },
    {
     "name": "stdout",
     "output_type": "stream",
     "text": [
      "Received response: Throughput: 0.32, Energy Used: 0\n",
      "Sending values: 1 1\n"
     ]
    },
    {
     "name": "stderr",
     "output_type": "stream",
     "text": [
      "1703306415.883428 -- INFO: Throughput @1703306415.8833497s:   0.0Gbps, lossRate: 0 CC:1  score:-0.0  rtt:32.7 ms energy:0.0 Jules s-plr:0.0 \n",
      "1703306416.884123 -- INFO: Throughput @1703306416.8840337s:   0.0Gbps, lossRate: 0 CC:1  score:-0.0  rtt:32.7 ms energy:0.0 Jules s-plr:0.0 \n",
      "1703306417.883108 -- INFO: Throughput @1703306417.8830216s:   0.0Gbps, lossRate: 0 CC:1  score:-0.0  rtt:32.7 ms energy:0.0 Jules s-plr:0.0 \n",
      "1703306418.884532 -- INFO: Throughput @1703306418.884456s:   0.0Gbps, lossRate: 0 CC:1  score:-0.0  rtt:32.7 ms energy:0.0 Jules s-plr:0.0 \n",
      "1703306419.887097 -- INFO: Throughput @1703306419.887011s:   0.0Gbps, lossRate: 0 CC:1  score:-0.0  rtt:32.6 ms energy:0.0 Jules s-plr:0.0 \n",
      "1703306420.888428 -- INFO: Throughput @1703306420.8883445s:   0.0Gbps, lossRate: 0 CC:1  score:-0.0  rtt:32.7 ms energy:0.0 Jules s-plr:0.0 \n"
     ]
    },
    {
     "name": "stdout",
     "output_type": "stream",
     "text": [
      "Received response: Throughput: 0.64, Energy Used: 0\n",
      "Sending values: 1 1\n"
     ]
    },
    {
     "name": "stderr",
     "output_type": "stream",
     "text": [
      "1703306421.887195 -- INFO: Throughput @1703306421.887117s:   0.0Gbps, lossRate: 0 CC:1  score:-0.0  rtt:32.7 ms energy:0.0 Jules s-plr:0.0 \n",
      "1703306422.890122 -- INFO: Throughput @1703306422.8900442s:   0.0Gbps, lossRate: 0 CC:1  score:-0.0  rtt:32.7 ms energy:0.0 Jules s-plr:0.0 \n",
      "1703306423.890784 -- INFO: Throughput @1703306423.8906968s:   0.0Gbps, lossRate: 0 CC:1  score:-0.0  rtt:32.8 ms energy:0.0 Jules s-plr:0.0 \n",
      "1703306424.892121 -- INFO: Throughput @1703306424.8920352s:   0.0Gbps, lossRate: 0 CC:1  score:-0.0  rtt:32.7 ms energy:0.0 Jules s-plr:0.0 \n"
     ]
    }
   ],
   "source": [
    "optimizer='gd'\n",
    "log_FORMAT = '%(created)f -- %(levelname)s: %(message)s'\n",
    "extraString=\"logFile\"\n",
    "log_file = f\"logFileDir/{optimizer}_{extraString}_{datetime.now().strftime('%m_%d_%Y_%H_%M_%S')}.log\"\n",
    "log.basicConfig(\n",
    "    format=log_FORMAT,\n",
    "    datefmt='%m/%d/%Y %I:%M:%S %p',\n",
    "    level=log.INFO,\n",
    "    handlers=[\n",
    "        log.FileHandler(log_file),\n",
    "        log.StreamHandler()\n",
    "    ]\n",
    ")\n",
    "\n",
    "REMOTE_IP = \"129.114.109.231\"\n",
    "REMOTE_PORT = \"80\"\n",
    "INTERVAL = 1\n",
    "INTERFACE = \"eno1\"\n",
    "SERVER_IP = '127.0.0.1'\n",
    "SERVER_PORT = 8080\n",
    "transfer_service = transferService(REMOTE_IP, REMOTE_PORT, INTERVAL, INTERFACE, SERVER_IP, SERVER_PORT, optimizer, log)\n",
    "env = transferClass(transfer_service)\n",
    "initial_state = env.reset()\n",
    "max_action, count = 9, 0\n",
    "current_action = env.action_space.sample()  # Start with a random action\n",
    "last_reward = None\n",
    "last_action = None\n",
    "learning_rate=0.1\n",
    "exploration_rate=0.1\n",
    "print(\"gradient_descent_optimizer Starting ...\")\n",
    "while True:\n",
    "    # Take the current action and observe the reward\n",
    "    _, reward, done, _ = env.step(current_action)\n",
    "    if done:\n",
    "        print(\"Gradient Descent Optimizer Exits ...\")\n",
    "        break   # Exit if the environment says we're done\n",
    "    if last_action is not None:\n",
    "        # Calculate the approximate gradient based on the last action and reward\n",
    "        gradient = reward - last_reward\n",
    "\n",
    "        # Decide whether to explore or exploit\n",
    "        if np.random.rand() > exploration_rate:\n",
    "            # Exploitation: Adjust action based on the observed gradient\n",
    "            action_change = -np.sign(gradient)\n",
    "            next_action = (last_action + learning_rate * action_change)\n",
    "            # Make sure the action is within the range of the action space\n",
    "            next_action =min(max_action-1, max(0, next_action))\n",
    "\n",
    "        else:\n",
    "            # Exploration: Choose a random action\n",
    "            next_action = env.action_space.sample()\n",
    "    else:\n",
    "        # For the first iteration, just choose a random next action\n",
    "        next_action = env.action_space.sample()\n",
    "\n",
    "    # Update for the next iteration\n",
    "    last_reward = reward\n",
    "    last_action = current_action\n",
    "    current_action = next_action\n",
    "\n",
    "    print(f\" Current Action: {current_action}, Reward: {reward}\")\n"
   ]
  },
  {
   "cell_type": "code",
   "execution_count": null,
   "id": "e82fef65",
   "metadata": {},
   "outputs": [],
   "source": []
  }
 ],
 "metadata": {
  "kernelspec": {
   "display_name": "Python 3 (ipykernel)",
   "language": "python",
   "name": "python3"
  },
  "language_info": {
   "codemirror_mode": {
    "name": "ipython",
    "version": 3
   },
   "file_extension": ".py",
   "mimetype": "text/x-python",
   "name": "python",
   "nbconvert_exporter": "python",
   "pygments_lexer": "ipython3",
   "version": "3.10.12"
  }
 },
 "nbformat": 4,
 "nbformat_minor": 5
}
